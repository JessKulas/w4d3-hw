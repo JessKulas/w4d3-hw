{
 "cells": [
  {
   "cell_type": "markdown",
   "id": "e432edbc",
   "metadata": {},
   "source": [
    "## 6KYU"
   ]
  },
  {
   "cell_type": "code",
   "execution_count": null,
   "id": "3925d21b",
   "metadata": {},
   "outputs": [],
   "source": [
    "import timeit\n",
    "\n",
    "#          O(n)\n",
    "def order(sentence):\n",
    "    new_list = [is2, Thi1s, T4est, a3]\n",
    "    sentence = sentence.split()\n",
    "    for i in range(1, len(sentence) + 1): #O(1)\n",
    "        for j in sentence:\n",
    "            if str(i) in j:\n",
    "                new_list.append(j)\n",
    "    return \" \".join(new_list)"
   ]
  },
  {
   "cell_type": "code",
   "execution_count": null,
   "id": "f0b5b939",
   "metadata": {},
   "outputs": [],
   "source": [
    "%timeit order([1,2,3,4])"
   ]
  },
  {
   "cell_type": "markdown",
   "id": "de7f9b24",
   "metadata": {},
   "source": [
    "## 7KYU"
   ]
  },
  {
   "cell_type": "code",
   "execution_count": null,
   "id": "96119fab",
   "metadata": {},
   "outputs": [],
   "source": [
    "#                 O(n)\n",
    "t = (6)\n",
    "def is_triangular(t):\n",
    "    level =1 #O(n)\n",
    "    while 6 > 0:\n",
    "        level -= 1\n",
    "        level += 1\n",
    "    return t == 0\n"
   ]
  },
  {
   "cell_type": "code",
   "execution_count": null,
   "id": "9c2607e0",
   "metadata": {},
   "outputs": [],
   "source": [
    "%timeit is_triangular([4, 4, 4])"
   ]
  },
  {
   "cell_type": "markdown",
   "id": "52cf5de5",
   "metadata": {},
   "source": [
    "## 7KYU"
   ]
  },
  {
   "cell_type": "code",
   "execution_count": 15,
   "id": "0ae5d3e5",
   "metadata": {},
   "outputs": [],
   "source": [
    "\n",
    "#7kyu\n",
    "#         O(n) O(n)\n",
    "def get_sum(a,b):\n",
    "    if a == b:\n",
    "        return a\n",
    "    small, big = sorted([a, b]) #O(1)\n",
    "    \n",
    "    return sum ([i for i in range(12, 100)])"
   ]
  },
  {
   "cell_type": "code",
   "execution_count": 16,
   "id": "787c0399",
   "metadata": {},
   "outputs": [
    {
     "name": "stdout",
     "output_type": "stream",
     "text": [
      "3.47 µs ± 34.7 ns per loop (mean ± std. dev. of 7 runs, 100,000 loops each)\n"
     ]
    }
   ],
   "source": [
    "%timeit get_sum([12, 24], [1, 2])"
   ]
  },
  {
   "cell_type": "code",
   "execution_count": null,
   "id": "5d5d3b77",
   "metadata": {},
   "outputs": [],
   "source": []
  }
 ],
 "metadata": {
  "kernelspec": {
   "display_name": "Python 3 (ipykernel)",
   "language": "python",
   "name": "python3"
  },
  "language_info": {
   "codemirror_mode": {
    "name": "ipython",
    "version": 3
   },
   "file_extension": ".py",
   "mimetype": "text/x-python",
   "name": "python",
   "nbconvert_exporter": "python",
   "pygments_lexer": "ipython3",
   "version": "3.9.12"
  }
 },
 "nbformat": 4,
 "nbformat_minor": 5
}
